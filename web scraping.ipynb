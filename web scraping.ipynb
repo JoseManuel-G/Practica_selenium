{
 "cells": [
  {
   "cell_type": "code",
   "execution_count": 168,
   "metadata": {},
   "outputs": [],
   "source": [
    "from selenium import webdriver\n",
    "import requests\n",
    "from bs4 import BeautifulSoup\n",
    "from time import sleep"
   ]
  },
  {
   "cell_type": "markdown",
   "metadata": {},
   "source": [
    "### Scrapeo de las discotecas mas importantes de Madrid"
   ]
  },
  {
   "cell_type": "code",
   "execution_count": 141,
   "metadata": {},
   "outputs": [],
   "source": [
    "url = 'https://www.mejoresdiscotecasmadrid.es/'"
   ]
  },
  {
   "cell_type": "code",
   "execution_count": 118,
   "metadata": {},
   "outputs": [],
   "source": [
    "driver = webdriver.Chrome(\"./chromedriver\")"
   ]
  },
  {
   "cell_type": "code",
   "execution_count": 119,
   "metadata": {},
   "outputs": [],
   "source": [
    "driver.get(url)"
   ]
  },
  {
   "cell_type": "code",
   "execution_count": 122,
   "metadata": {},
   "outputs": [],
   "source": [
    "boton = driver.find_elements_by_css_selector(\"p span a\")"
   ]
  },
  {
   "cell_type": "code",
   "execution_count": 125,
   "metadata": {},
   "outputs": [
    {
     "data": {
      "text/plain": [
       "88"
      ]
     },
     "execution_count": 125,
     "metadata": {},
     "output_type": "execute_result"
    }
   ],
   "source": [
    "len(boton)"
   ]
  },
  {
   "cell_type": "code",
   "execution_count": 126,
   "metadata": {},
   "outputs": [
    {
     "data": {
      "text/plain": [
       "list"
      ]
     },
     "execution_count": 126,
     "metadata": {},
     "output_type": "execute_result"
    }
   ],
   "source": [
    "type(boton)"
   ]
  },
  {
   "cell_type": "code",
   "execution_count": 127,
   "metadata": {},
   "outputs": [],
   "source": [
    "lista = []\n",
    "for i in boton:\n",
    "    lista.append(i.text)"
   ]
  },
  {
   "cell_type": "code",
   "execution_count": 137,
   "metadata": {},
   "outputs": [],
   "source": [
    "lista_discotecas_famosas_Madrid = lista[45:-1]"
   ]
  },
  {
   "cell_type": "code",
   "execution_count": 138,
   "metadata": {},
   "outputs": [
    {
     "data": {
      "text/plain": [
       "['discoteca Teatro Kapital',\n",
       " 'Discoteca Florida Retiro',\n",
       " 'Discoteca Nox Club',\n",
       " 'Discoteca Independance Club',\n",
       " 'discoteca Liberty',\n",
       " 'discoteca Oh My Club',\n",
       " 'Teatro Gran maestre',\n",
       " 'Discoteca Bling Bling',\n",
       " 'Discoteca Teatro Barceló',\n",
       " 'Discoteca Colonial Norte',\n",
       " 'Discoteca El Doblón',\n",
       " 'Discoteca Copérnico',\n",
       " 'Discoteca Boom Room',\n",
       " 'Discoteca B12',\n",
       " 'Discoteca Mitty Cats',\n",
       " 'Discoteca Jowke',\n",
       " 'Discoteca Icon Club',\n",
       " 'Discoteca Fabrik',\n",
       " 'Discoteca Joy Eslava',\n",
       " 'Discoteca Shoko Madrid',\n",
       " 'Discoteca Le Boutique Club',\n",
       " 'Discoteca Fortuny',\n",
       " 'Discoteca Koh Tao',\n",
       " 'Discoteca Bowi',\n",
       " 'Discoteca BlackHaus',\n",
       " 'Discoteca Tiffanys Madrid',\n",
       " 'Discoteca Nazca Events Club',\n",
       " 'Discoteca Goya Social Club',\n",
       " 'Discoteca La posada de las Ánimas',\n",
       " 'Discoteca Bonamara',\n",
       " 'Discoteca Opium',\n",
       " 'Discoteca Mymo',\n",
       " 'Discoteca La Nuit',\n",
       " 'Discoteca Lolita Lounge Bar',\n",
       " 'Discoteca Serrano 41',\n",
       " 'Discoteca Velvet',\n",
       " 'discoteca Gunilla',\n",
       " 'discoteca La Riviera',\n",
       " 'Discoteca Graf Madrid',\n",
       " 'Discoteca Freedom Nightclub',\n",
       " 'Discoteca Panda Club',\n",
       " 'Discoteca Maggies Madrid']"
      ]
     },
     "execution_count": 138,
     "metadata": {},
     "output_type": "execute_result"
    }
   ],
   "source": [
    "lista_discotecas_famosas_Madrid"
   ]
  },
  {
   "cell_type": "markdown",
   "metadata": {},
   "source": [
    "### Scrapeo de todas las discotecas de madrid con selenium"
   ]
  },
  {
   "cell_type": "code",
   "execution_count": 159,
   "metadata": {},
   "outputs": [],
   "source": [
    "url1 = 'https://www.google.com/search?tbs=lf:1,lf_ui:1&tbm=lcl&sxsrf=ALeKk038CxPsR6xPgGW6rvSqwd9Ef-WtYA:1611681656938&q=lista+discotecas+madrid&rflfq=1&num=10&sa=X&ved=2ahUKEwjlhJyFjrruAhWPSxUIHZsRC14QjGp6BAgFEE4&biw=1848&bih=949#rlfi=hd:;si:;mv:[[40.4612708,-3.6422817000000003],[40.406845499999996,-3.7114615000000004]];tbs:lrf:!1m4!1u3!2m2!3m1!1e1!1m4!1u2!2m2!2m1!1e1!2m1!1e2!2m1!1e3!3sIAE,lf:1,lf_ui:1'"
   ]
  },
  {
   "cell_type": "code",
   "execution_count": 142,
   "metadata": {},
   "outputs": [],
   "source": [
    "driver.get(url1)"
   ]
  },
  {
   "cell_type": "code",
   "execution_count": 143,
   "metadata": {},
   "outputs": [],
   "source": [
    "disco = driver.find_elements_by_css_selector('a div div div')"
   ]
  },
  {
   "cell_type": "code",
   "execution_count": 144,
   "metadata": {},
   "outputs": [
    {
     "data": {
      "text/plain": [
       "31"
      ]
     },
     "execution_count": 144,
     "metadata": {},
     "output_type": "execute_result"
    }
   ],
   "source": [
    "len(disco)"
   ]
  },
  {
   "cell_type": "code",
   "execution_count": 147,
   "metadata": {},
   "outputs": [],
   "source": [
    "posibles_disco_mad = []\n",
    "for i in disco:\n",
    "    posibles_disco_mad.append(i.text)"
   ]
  },
  {
   "cell_type": "code",
   "execution_count": 148,
   "metadata": {},
   "outputs": [
    {
     "data": {
      "text/plain": [
       "['Opium Madrid',\n",
       " 'Comer allí',\n",
       " 'Graf Madrid',\n",
       " 'Comer allí',\n",
       " 'Teatro Barceló',\n",
       " 'Comer allí',\n",
       " '+ 18\\nmás',\n",
       " '+ 18\\nmás',\n",
       " '+ 18\\nmás',\n",
       " 'Discoteca Velvet',\n",
       " 'Comer allí',\n",
       " 'Bling Bling Madrid',\n",
       " 'No se puede comer dentro',\n",
       " 'No se puede comer dentro',\n",
       " 'MYMO Madrid',\n",
       " 'Nazca Club',\n",
       " 'La Posada de las Ánimas',\n",
       " \"Tiffany's The Club\",\n",
       " 'Teatro Kapital',\n",
       " 'Seven Club',\n",
       " 'Joy Eslava',\n",
       " 'Comer allí',\n",
       " 'Discoteca Serrano 41',\n",
       " 'Comer allí',\n",
       " 'Borinquen Madrid',\n",
       " 'GUNILLA CLUB',\n",
       " 'Koh Tao',\n",
       " 'Sala Quality Madrid',\n",
       " 'Nuit Madrid',\n",
       " 'Baila Madrid',\n",
       " 'Limusinas y Discotecas Free Madrid']"
      ]
     },
     "execution_count": 148,
     "metadata": {},
     "output_type": "execute_result"
    }
   ],
   "source": [
    "posibles_disco_mad"
   ]
  },
  {
   "cell_type": "code",
   "execution_count": 184,
   "metadata": {},
   "outputs": [],
   "source": [
    "posibles_disco_mad = []\n",
    "def scraping():\n",
    "    driver.get(url1)\n",
    "    sleep(2)\n",
    "    while driver.find_elements_by_css_selector('td a span')[-1].text == 'Siguiente':\n",
    "        disco = driver.find_elements_by_css_selector('a div div div')\n",
    "        for i in disco:\n",
    "            posibles_disco_mad.append(i.text)\n",
    "        driver.find_elements_by_css_selector('td a span')[-1].click()\n",
    "        sleep(2)\n",
    "    return posibles_disco_mad\n",
    "        \n",
    "    \n",
    "    "
   ]
  },
  {
   "cell_type": "code",
   "execution_count": 171,
   "metadata": {},
   "outputs": [],
   "source": [
    "boton_ = driver.find_elements_by_css_selector('td a span')[-1].text"
   ]
  },
  {
   "cell_type": "code",
   "execution_count": 172,
   "metadata": {},
   "outputs": [
    {
     "data": {
      "text/plain": [
       "'Siguiente'"
      ]
     },
     "execution_count": 172,
     "metadata": {},
     "output_type": "execute_result"
    }
   ],
   "source": [
    "boton_"
   ]
  },
  {
   "cell_type": "code",
   "execution_count": 167,
   "metadata": {},
   "outputs": [
    {
     "data": {
      "text/plain": [
       "True"
      ]
     },
     "execution_count": 167,
     "metadata": {},
     "output_type": "execute_result"
    }
   ],
   "source": [
    "driver.find_elements_by_css_selector('td a span')[-1].text == 'Siguiente'"
   ]
  },
  {
   "cell_type": "code",
   "execution_count": 185,
   "metadata": {},
   "outputs": [
    {
     "data": {
      "text/plain": [
       "['Opium Madrid',\n",
       " 'Comer allí',\n",
       " 'Graf Madrid',\n",
       " 'Comer allí',\n",
       " 'Teatro Barceló',\n",
       " '+ 18\\nmás',\n",
       " '+ 18\\nmás',\n",
       " '+ 18\\nmás',\n",
       " 'Discoteca Velvet',\n",
       " 'Comer allí',\n",
       " 'Bling Bling Madrid',\n",
       " 'No se puede comer dentro',\n",
       " 'No se puede comer dentro',\n",
       " 'MYMO Madrid',\n",
       " 'Nazca Club',\n",
       " 'La Posada de las Ánimas',\n",
       " \"Tiffany's The Club\",\n",
       " 'Teatro Kapital',\n",
       " 'Seven Club',\n",
       " 'Joy Eslava',\n",
       " 'Comer allí',\n",
       " 'Discoteca Serrano 41',\n",
       " 'Comer allí',\n",
       " 'Borinquen Madrid',\n",
       " 'GUNILLA CLUB',\n",
       " 'Koh Tao',\n",
       " 'Sala Quality Madrid',\n",
       " 'Nuit Madrid',\n",
       " 'Baila Madrid',\n",
       " 'Limusinas y Discotecas Free Madrid',\n",
       " 'Local para fiestas madrid',\n",
       " 'B12 Madrid',\n",
       " 'Comer allí',\n",
       " 'moondance madrid',\n",
       " 'Comer allí',\n",
       " 'Maggies Madrid',\n",
       " 'Grupo Milton Media',\n",
       " 'CHA CHÁ The Club (Madrid)',\n",
       " 'Discoteca Capricho',\n",
       " 'Discoteca Commodoro',\n",
       " 'Maggyk',\n",
       " 'Comer allí',\n",
       " 'Hpnotiq',\n",
       " 'Bearbie Madrid',\n",
       " 'Faena Madrid',\n",
       " 'Shoko Madrid',\n",
       " 'Goya Social Club',\n",
       " 'DISCOTECA LOPEDISCO',\n",
       " 'Discoteca Moorea Madrid',\n",
       " 'New Garamond',\n",
       " 'Sala Morocco',\n",
       " 'DISCOTECA GLASS',\n",
       " 'AlegoríA',\n",
       " 'Rococo Club',\n",
       " 'Fortuny Restaurant & Club',\n",
       " 'Comer allí',\n",
       " '·',\n",
       " 'Para llevar',\n",
       " '·',\n",
       " 'A domicilio',\n",
       " 'Golden Boite',\n",
       " 'Sala Ginger Madrid',\n",
       " 'The Marvel',\n",
       " 'Comer allí',\n",
       " 'Samsara',\n",
       " 'Comer allí',\n",
       " 'DiscoMadrid',\n",
       " 'Kluster',\n",
       " 'Bowi',\n",
       " 'Comer allí',\n",
       " 'Hook Madrid',\n",
       " 'Changó Club',\n",
       " 'La Boite Del Pintor',\n",
       " 'Gayarre',\n",
       " 'Green',\n",
       " 'Cabaret Madrid Club',\n",
       " 'Local para celebrar cumpleaños Madrid',\n",
       " 'Maccao Club',\n",
       " 'Comer allí',\n",
       " 'Garamond',\n",
       " 'Yroko Madrid',\n",
       " 'Sala Cats',\n",
       " 'La Que Se Lía',\n",
       " 'Comer allí',\n",
       " 'La Carroza Club',\n",
       " 'Independance Club',\n",
       " 'Comer allí',\n",
       " 'Cocó',\n",
       " 'bisú',\n",
       " 'Skynight',\n",
       " 'Discotecas Móviles Baticano Music',\n",
       " 'Maravillas Club',\n",
       " 'Discoteca Faces Latina',\n",
       " 'LAB Madrid',\n",
       " 'Freedom',\n",
       " 'Marmara',\n",
       " 'Kiss Me Madrid 365',\n",
       " 'La Que Faltaba',\n",
       " 'Malaba Club',\n",
       " 'Comer allí',\n",
       " 'Sala El Sol',\n",
       " 'Lemon Madrid Jueves',\n",
       " 'Discoteca La Rodríguez',\n",
       " 'Copérnico The Club',\n",
       " 'Destino Madrid',\n",
       " 'Discoteca El Son',\n",
       " 'Taste Club',\n",
       " 'Cool',\n",
       " 'CIBELES Madrid',\n",
       " 'Comer allí',\n",
       " 'Nomad Club',\n",
       " 'Comer allí',\n",
       " 'MAU MAU CLUB',\n",
       " 'Discoteca Bahia Madrid',\n",
       " 'Discoteca Boite de Alfonso',\n",
       " 'Mon Madrid',\n",
       " 'NUVO LATIN BAR',\n",
       " 'Comer allí',\n",
       " 'Discoteca Kaos',\n",
       " 'Sotto - Discoteca, terraza y sala de eventos en Bernabéu',\n",
       " 'Comer allí',\n",
       " 'Monocle Club',\n",
       " 'Ochoymedio',\n",
       " 'Piccaro',\n",
       " 'Comer allí',\n",
       " 'Discoteca Agora HD',\n",
       " 'Paris Discoteca',\n",
       " 'La Noche Club',\n",
       " 'M-biu',\n",
       " 'Discoteca Legends',\n",
       " 'Mandala Discoteca',\n",
       " 'Center Mambo Latino',\n",
       " 'Silikona',\n",
       " 'Discoteca Azúcar',\n",
       " 'Black & White',\n",
       " 'Comer allí',\n",
       " 'FIESTAS NOCHEVIEJA MADRID',\n",
       " 'Sala Emoxion',\n",
       " 'Madrid Lux',\n",
       " 'Gran Caimán',\n",
       " 'Delirio Dance Club',\n",
       " 'Mondo Disko',\n",
       " 'Sala Republik Club',\n",
       " 'Comer allí',\n",
       " 'Medias Puri',\n",
       " 'Comer allí',\n",
       " 'We Rock',\n",
       " 'Discoteca Calypso',\n",
       " 'EGO CONFIDENTIAL CLUB',\n",
       " 'Comer allí',\n",
       " 'Taboo Madrid',\n",
       " 'Discoteca zona cero',\n",
       " 'Black Star',\n",
       " 'Comer allí',\n",
       " 'Star Coyote 54',\n",
       " 'Colonial Norte',\n",
       " 'Comer allí',\n",
       " '·',\n",
       " 'Para llevar',\n",
       " '·',\n",
       " 'A domicilio',\n",
       " 'Back To The 80s',\n",
       " 'Uñas Chung Lee',\n",
       " 'Comer allí',\n",
       " 'La Cartuja',\n",
       " 'Blackhaus',\n",
       " 'PARADISO MADRID',\n",
       " 'Paraguay Dance',\n",
       " 'The Host Club',\n",
       " 'Discoteca MalaMala',\n",
       " 'Club 54',\n",
       " 'Comer allí',\n",
       " 'Penélope',\n",
       " 'MOSS MADRID',\n",
       " 'Mondino Remember Club',\n",
       " 'GOTHAM The Club',\n",
       " 'Strong Center',\n",
       " 'Comer allí',\n",
       " 'Club Discoteca Paradiso',\n",
       " 'Moroder Sound Club',\n",
       " 'Snobissimo Disco',\n",
       " 'Pub Single',\n",
       " 'Paddock',\n",
       " 'Costa Social Club',\n",
       " 'Wiiken',\n",
       " 'Baila Cariño',\n",
       " 'Churros con Chocolate (Chocochurros)',\n",
       " 'Vanity',\n",
       " \"Ya'sta Club\",\n",
       " 'Ekho Club',\n",
       " 'Comer allí',\n",
       " 'Club Musée',\n",
       " 'Berlín Cabaret',\n",
       " 'Comer allí',\n",
       " 'Kube Madrid',\n",
       " 'Tropicali Disco Bar',\n",
       " 'Vuélvete Loca',\n",
       " 'Liberty Supper Club',\n",
       " 'No hay entrega a domicilio',\n",
       " 'No hay entrega a domicilio',\n",
       " 'A Quién le Importa',\n",
       " 'Comer allí',\n",
       " 'Sala Nazca Live',\n",
       " 'Panda Club',\n",
       " 'La Cocina Rock Bar',\n",
       " 'Sala Stella',\n",
       " 'Comer allí',\n",
       " 'El Sol',\n",
       " 'Local Liberal Encuentros VIP Club Swinger Madrid',\n",
       " 'Oh My Club Madrid',\n",
       " 'Sala Zenith',\n",
       " 'El Callejón de Serrano',\n",
       " 'Comer allí',\n",
       " '·',\n",
       " 'Para llevar',\n",
       " 'La Flaca',\n",
       " 'Pub-Crawl Party Area Madrid',\n",
       " 'Jowke',\n",
       " 'Sala But',\n",
       " 'The Show Kizomba Madrid',\n",
       " 'The Jungle',\n",
       " 'Bar de copas y club nocturno Pigmalion Madrid',\n",
       " 'El Chapandaz',\n",
       " 'Avalon',\n",
       " 'Héroe Café Espectáculo Bar de los 80',\n",
       " 'Comer allí',\n",
       " '·',\n",
       " 'Para llevar',\n",
       " 'Charada Club de Baile',\n",
       " 'Studio76',\n",
       " 'Teatro Gran Maestre',\n",
       " 'Dance Club Marula Café Madrid Disco',\n",
       " 'Mama no lo sabe',\n",
       " 'No hay comida para llevar',\n",
       " 'No hay comida para llevar',\n",
       " 'Terraza Chill & Cocktail Bar Puerta América',\n",
       " 'CLUBBERS']"
      ]
     },
     "execution_count": 185,
     "metadata": {},
     "output_type": "execute_result"
    }
   ],
   "source": [
    "scraping()"
   ]
  },
  {
   "cell_type": "code",
   "execution_count": null,
   "metadata": {},
   "outputs": [],
   "source": []
  }
 ],
 "metadata": {
  "kernelspec": {
   "display_name": "Python 3",
   "language": "python",
   "name": "python3"
  },
  "language_info": {
   "codemirror_mode": {
    "name": "ipython",
    "version": 3
   },
   "file_extension": ".py",
   "mimetype": "text/x-python",
   "name": "python",
   "nbconvert_exporter": "python",
   "pygments_lexer": "ipython3",
   "version": "3.8.5"
  }
 },
 "nbformat": 4,
 "nbformat_minor": 4
}
